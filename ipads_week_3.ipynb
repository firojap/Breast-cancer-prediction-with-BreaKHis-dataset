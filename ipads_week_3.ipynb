{
  "nbformat": 4,
  "nbformat_minor": 0,
  "metadata": {
    "colab": {
      "name": "ipads_week_3.ipynb",
      "provenance": [],
      "collapsed_sections": []
    },
    "kernelspec": {
      "name": "python3",
      "display_name": "Python 3"
    }
  },
  "cells": [
    {
      "cell_type": "markdown",
      "metadata": {
        "id": "3DR-eO17geWu"
      },
      "source": [
        "# Convolutional Neural Network"
      ]
    },
    {
      "cell_type": "markdown",
      "metadata": {
        "id": "EMefrVPCg-60"
      },
      "source": [
        "### Importing the libraries"
      ]
    },
    {
      "cell_type": "code",
      "metadata": {
        "id": "sCV30xyVhFbE"
      },
      "source": [
        "import tensorflow as tf\n",
        "from keras.preprocessing.image import ImageDataGenerator"
      ],
      "execution_count": 1,
      "outputs": []
    },
    {
      "cell_type": "code",
      "metadata": {
        "id": "FIleuCAjoFD8",
        "colab": {
          "base_uri": "https://localhost:8080/",
          "height": 35
        },
        "outputId": "c9e8f2f8-375f-43b0-d0e7-a600bd30929d"
      },
      "source": [
        "tf.__version__"
      ],
      "execution_count": 2,
      "outputs": [
        {
          "output_type": "execute_result",
          "data": {
            "application/vnd.google.colaboratory.intrinsic+json": {
              "type": "string"
            },
            "text/plain": [
              "'2.3.0'"
            ]
          },
          "metadata": {
            "tags": []
          },
          "execution_count": 2
        }
      ]
    },
    {
      "cell_type": "markdown",
      "metadata": {
        "id": "oxQxCBWyoGPE"
      },
      "source": [
        "## Part 1 - Data Preprocessing"
      ]
    },
    {
      "cell_type": "markdown",
      "metadata": {
        "id": "MvE-heJNo3GG"
      },
      "source": [
        "### Preprocessing the Training set"
      ]
    },
    {
      "cell_type": "code",
      "metadata": {
        "id": "0koUcJMJpEBD",
        "colab": {
          "base_uri": "https://localhost:8080/"
        },
        "outputId": "af2ee138-b41b-4454-9814-905a7746efa4"
      },
      "source": [
        "train_datagen = ImageDataGenerator(rescale = 1./255,\n",
        "                                   shear_range = 0.2,\n",
        "                                   zoom_range = 0.2,\n",
        "                                   horizontal_flip = True)\n",
        "training_set = train_datagen.flow_from_directory('/content/drive/MyDrive/IPADS - 2020/dataset/training',\n",
        "                                                 target_size = (64, 64),\n",
        "                                                 batch_size = 32,\n",
        "                                                 class_mode = 'binary')"
      ],
      "execution_count": 3,
      "outputs": [
        {
          "output_type": "stream",
          "text": [
            "Found 976 images belonging to 2 classes.\n"
          ],
          "name": "stdout"
        }
      ]
    },
    {
      "cell_type": "markdown",
      "metadata": {
        "id": "mrCMmGw9pHys"
      },
      "source": [
        "### Preprocessing the Test set"
      ]
    },
    {
      "cell_type": "code",
      "metadata": {
        "id": "SH4WzfOhpKc3",
        "colab": {
          "base_uri": "https://localhost:8080/"
        },
        "outputId": "8ae8451b-cfca-4c17-c971-ee7961490f96"
      },
      "source": [
        "test_datagen = ImageDataGenerator(rescale = 1./255)\n",
        "test_set = test_datagen.flow_from_directory('/content/drive/MyDrive/IPADS - 2020/dataset/test',\n",
        "                                            target_size = (64, 64),\n",
        "                                            batch_size = 32,\n",
        "                                            class_mode = 'binary')"
      ],
      "execution_count": 4,
      "outputs": [
        {
          "output_type": "stream",
          "text": [
            "Found 200 images belonging to 2 classes.\n"
          ],
          "name": "stdout"
        }
      ]
    },
    {
      "cell_type": "code",
      "metadata": {
        "colab": {
          "base_uri": "https://localhost:8080/"
        },
        "id": "z6Ylepd49-Jd",
        "outputId": "b6beed45-950a-4566-d932-ddd408d2d698"
      },
      "source": [
        "from google.colab import drive\n",
        "drive.mount('/content/drive')"
      ],
      "execution_count": 5,
      "outputs": [
        {
          "output_type": "stream",
          "text": [
            "Drive already mounted at /content/drive; to attempt to forcibly remount, call drive.mount(\"/content/drive\", force_remount=True).\n"
          ],
          "name": "stdout"
        }
      ]
    },
    {
      "cell_type": "markdown",
      "metadata": {
        "id": "af8O4l90gk7B"
      },
      "source": [
        "## Part 2 - Building the CNN"
      ]
    },
    {
      "cell_type": "markdown",
      "metadata": {
        "id": "ces1gXY2lmoX"
      },
      "source": [
        "### Initialising the CNN"
      ]
    },
    {
      "cell_type": "code",
      "metadata": {
        "id": "SAUt4UMPlhLS"
      },
      "source": [
        "cnn = tf.keras.models.Sequential()"
      ],
      "execution_count": 6,
      "outputs": []
    },
    {
      "cell_type": "markdown",
      "metadata": {
        "id": "u5YJj_XMl5LF"
      },
      "source": [
        "### Step 1 - Convolution"
      ]
    },
    {
      "cell_type": "code",
      "metadata": {
        "id": "XPzPrMckl-hV"
      },
      "source": [
        "cnn.add(tf.keras.layers.Conv2D(filters=32, kernel_size=3, activation='relu', input_shape=[64, 64, 3]))"
      ],
      "execution_count": 7,
      "outputs": []
    },
    {
      "cell_type": "markdown",
      "metadata": {
        "id": "tf87FpvxmNOJ"
      },
      "source": [
        "### Step 2 - Pooling"
      ]
    },
    {
      "cell_type": "code",
      "metadata": {
        "id": "ncpqPl69mOac"
      },
      "source": [
        "cnn.add(tf.keras.layers.MaxPool2D(pool_size=2, strides=2))"
      ],
      "execution_count": 8,
      "outputs": []
    },
    {
      "cell_type": "markdown",
      "metadata": {
        "id": "xaTOgD8rm4mU"
      },
      "source": [
        "### Adding a second convolutional layer"
      ]
    },
    {
      "cell_type": "code",
      "metadata": {
        "id": "i_-FZjn_m8gk"
      },
      "source": [
        "cnn.add(tf.keras.layers.Conv2D(filters=32, kernel_size=3, activation='relu'))\n",
        "cnn.add(tf.keras.layers.MaxPool2D(pool_size=2, strides=2))"
      ],
      "execution_count": 9,
      "outputs": []
    },
    {
      "cell_type": "markdown",
      "metadata": {
        "id": "tmiEuvTunKfk"
      },
      "source": [
        "### Step 3 - Flattening"
      ]
    },
    {
      "cell_type": "code",
      "metadata": {
        "id": "6AZeOGCvnNZn"
      },
      "source": [
        "cnn.add(tf.keras.layers.Flatten())"
      ],
      "execution_count": 10,
      "outputs": []
    },
    {
      "cell_type": "markdown",
      "metadata": {
        "id": "dAoSECOm203v"
      },
      "source": [
        "### Step 4 - Full Connection"
      ]
    },
    {
      "cell_type": "code",
      "metadata": {
        "id": "8GtmUlLd26Nq"
      },
      "source": [
        "cnn.add(tf.keras.layers.Dense(units=128, activation='relu'))"
      ],
      "execution_count": 11,
      "outputs": []
    },
    {
      "cell_type": "markdown",
      "metadata": {
        "id": "yTldFvbX28Na"
      },
      "source": [
        "### Step 5 - Output Layer"
      ]
    },
    {
      "cell_type": "code",
      "metadata": {
        "id": "1p_Zj1Mc3Ko_"
      },
      "source": [
        "cnn.add(tf.keras.layers.Dense(units=1, activation='sigmoid'))"
      ],
      "execution_count": 12,
      "outputs": []
    },
    {
      "cell_type": "markdown",
      "metadata": {
        "id": "D6XkI90snSDl"
      },
      "source": [
        "## Part 3 - Training the CNN"
      ]
    },
    {
      "cell_type": "markdown",
      "metadata": {
        "id": "vfrFQACEnc6i"
      },
      "source": [
        "### Compiling the CNN"
      ]
    },
    {
      "cell_type": "code",
      "metadata": {
        "id": "NALksrNQpUlJ"
      },
      "source": [
        "cnn.compile(optimizer = 'adam', loss = 'binary_crossentropy', metrics = ['accuracy'])"
      ],
      "execution_count": 13,
      "outputs": []
    },
    {
      "cell_type": "markdown",
      "metadata": {
        "id": "ehS-v3MIpX2h"
      },
      "source": [
        "### Training the CNN on the Training set and evaluating it on the Test set"
      ]
    },
    {
      "cell_type": "code",
      "metadata": {
        "id": "XUj1W4PJptta",
        "colab": {
          "base_uri": "https://localhost:8080/"
        },
        "outputId": "525e3e96-3838-4dfc-ddd7-3ea49057ff91"
      },
      "source": [
        "cnn.fit(x = training_set, validation_data = test_set, epochs = 25)"
      ],
      "execution_count": 14,
      "outputs": [
        {
          "output_type": "stream",
          "text": [
            "Epoch 1/25\n",
            "31/31 [==============================] - 576s 19s/step - loss: 0.6205 - accuracy: 0.6516 - val_loss: 0.4514 - val_accuracy: 0.9150\n",
            "Epoch 2/25\n",
            "31/31 [==============================] - 23s 741ms/step - loss: 0.5019 - accuracy: 0.7797 - val_loss: 0.3515 - val_accuracy: 0.8850\n",
            "Epoch 3/25\n",
            "31/31 [==============================] - 23s 731ms/step - loss: 0.4309 - accuracy: 0.8197 - val_loss: 0.4936 - val_accuracy: 0.7100\n",
            "Epoch 4/25\n",
            "31/31 [==============================] - 23s 732ms/step - loss: 0.4154 - accuracy: 0.8217 - val_loss: 0.4203 - val_accuracy: 0.8150\n",
            "Epoch 5/25\n",
            "31/31 [==============================] - 23s 734ms/step - loss: 0.4137 - accuracy: 0.8309 - val_loss: 0.3262 - val_accuracy: 0.8750\n",
            "Epoch 6/25\n",
            "31/31 [==============================] - 23s 736ms/step - loss: 0.4409 - accuracy: 0.7971 - val_loss: 0.2470 - val_accuracy: 0.9250\n",
            "Epoch 7/25\n",
            "31/31 [==============================] - 23s 732ms/step - loss: 0.4160 - accuracy: 0.8186 - val_loss: 0.5425 - val_accuracy: 0.6850\n",
            "Epoch 8/25\n",
            "31/31 [==============================] - 23s 730ms/step - loss: 0.4362 - accuracy: 0.8094 - val_loss: 0.2929 - val_accuracy: 0.8850\n",
            "Epoch 9/25\n",
            "31/31 [==============================] - 23s 734ms/step - loss: 0.3877 - accuracy: 0.8299 - val_loss: 0.3821 - val_accuracy: 0.8150\n",
            "Epoch 10/25\n",
            "31/31 [==============================] - 23s 749ms/step - loss: 0.4004 - accuracy: 0.8361 - val_loss: 0.3322 - val_accuracy: 0.9300\n",
            "Epoch 11/25\n",
            "31/31 [==============================] - 23s 735ms/step - loss: 0.4293 - accuracy: 0.8064 - val_loss: 0.3727 - val_accuracy: 0.8250\n",
            "Epoch 12/25\n",
            "31/31 [==============================] - 23s 733ms/step - loss: 0.4094 - accuracy: 0.8381 - val_loss: 0.3449 - val_accuracy: 0.8100\n",
            "Epoch 13/25\n",
            "31/31 [==============================] - 23s 741ms/step - loss: 0.3979 - accuracy: 0.8248 - val_loss: 0.3684 - val_accuracy: 0.8150\n",
            "Epoch 14/25\n",
            "31/31 [==============================] - 23s 729ms/step - loss: 0.3617 - accuracy: 0.8432 - val_loss: 0.4833 - val_accuracy: 0.8100\n",
            "Epoch 15/25\n",
            "31/31 [==============================] - 23s 735ms/step - loss: 0.3828 - accuracy: 0.8289 - val_loss: 0.5352 - val_accuracy: 0.7750\n",
            "Epoch 16/25\n",
            "31/31 [==============================] - 23s 735ms/step - loss: 0.3871 - accuracy: 0.8227 - val_loss: 0.2863 - val_accuracy: 0.9450\n",
            "Epoch 17/25\n",
            "31/31 [==============================] - 23s 735ms/step - loss: 0.3938 - accuracy: 0.8186 - val_loss: 0.3483 - val_accuracy: 0.8400\n",
            "Epoch 18/25\n",
            "31/31 [==============================] - 26s 827ms/step - loss: 0.3460 - accuracy: 0.8443 - val_loss: 0.4929 - val_accuracy: 0.8300\n",
            "Epoch 19/25\n",
            "31/31 [==============================] - 23s 735ms/step - loss: 0.3855 - accuracy: 0.8258 - val_loss: 0.4223 - val_accuracy: 0.9000\n",
            "Epoch 20/25\n",
            "31/31 [==============================] - 23s 731ms/step - loss: 0.3613 - accuracy: 0.8299 - val_loss: 0.5759 - val_accuracy: 0.6850\n",
            "Epoch 21/25\n",
            "31/31 [==============================] - 23s 729ms/step - loss: 0.3465 - accuracy: 0.8371 - val_loss: 0.3131 - val_accuracy: 0.8800\n",
            "Epoch 22/25\n",
            "31/31 [==============================] - 23s 730ms/step - loss: 0.3903 - accuracy: 0.8422 - val_loss: 0.3408 - val_accuracy: 0.8750\n",
            "Epoch 23/25\n",
            "31/31 [==============================] - 23s 748ms/step - loss: 0.3998 - accuracy: 0.8145 - val_loss: 0.3666 - val_accuracy: 0.8600\n",
            "Epoch 24/25\n",
            "31/31 [==============================] - 23s 748ms/step - loss: 0.3252 - accuracy: 0.8473 - val_loss: 0.4431 - val_accuracy: 0.8200\n",
            "Epoch 25/25\n",
            "31/31 [==============================] - 23s 737ms/step - loss: 0.3206 - accuracy: 0.8473 - val_loss: 0.3505 - val_accuracy: 0.8950\n"
          ],
          "name": "stdout"
        },
        {
          "output_type": "execute_result",
          "data": {
            "text/plain": [
              "<tensorflow.python.keras.callbacks.History at 0x7efde4d0ebe0>"
            ]
          },
          "metadata": {
            "tags": []
          },
          "execution_count": 14
        }
      ]
    },
    {
      "cell_type": "markdown",
      "metadata": {
        "id": "U3PZasO0006Z"
      },
      "source": [
        "## Part 4 - Making a single prediction"
      ]
    },
    {
      "cell_type": "code",
      "metadata": {
        "id": "gsSiWEJY1BPB"
      },
      "source": [
        "import numpy as np\n",
        "from keras.preprocessing import image\n",
        "test_image = image.load_img('/content/drive/MyDrive/IPADS - 2020/dataset/single_prediction/benign_or_malignant_1.png', target_size = (64, 64))\n",
        "test_image = image.img_to_array(test_image)\n",
        "test_image = np.expand_dims(test_image, axis = 0)\n",
        "result = cnn.predict(test_image)\n",
        "training_set.class_indices\n",
        "if result[0][0] == 1:\n",
        "  prediction = 'Malignant'\n",
        "else:\n",
        "  prediction = 'Benign'"
      ],
      "execution_count": 19,
      "outputs": []
    },
    {
      "cell_type": "code",
      "metadata": {
        "id": "ED9KB3I54c1i",
        "colab": {
          "base_uri": "https://localhost:8080/"
        },
        "outputId": "670633b7-b4ff-453f-a319-4d509d254ddf"
      },
      "source": [
        "print(prediction)"
      ],
      "execution_count": 20,
      "outputs": [
        {
          "output_type": "stream",
          "text": [
            "Benign\n"
          ],
          "name": "stdout"
        }
      ]
    }
  ]
}